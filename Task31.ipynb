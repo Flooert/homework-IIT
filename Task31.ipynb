{
  "nbformat": 4,
  "nbformat_minor": 0,
  "metadata": {
    "colab": {
      "provenance": []
    },
    "kernelspec": {
      "name": "python3",
      "display_name": "Python 3"
    },
    "language_info": {
      "name": "python"
    }
  },
  "cells": [
    {
      "cell_type": "markdown",
      "source": [
        "## Титульный лист\n",
        "<a name = 'Титульный_лист'>\n",
        "\n"
      ],
      "metadata": {
        "id": "vCi-sHS5SqlX"
      }
    },
    {
      "cell_type": "markdown",
      "source": [
        "<font face=\"times new roman\" size=\"3\" color=\"black \">\n",
        "<center> МИНИСТЕРСТВО ЦИФРОВОГО РАЗВИТИЯ, СВЯЗИ И МАССОВЫХ КОММУНИКАЦИЙ РОССИЙСКОЙ ФЕДЕРАЦИИ </center>\n",
        "<center>Ордена Трудового Красного Знамени федеральное государственное бюджетное образовательное учреждение высшего образования </center>\n",
        "<center> <strong> «Московский технический университет связи и информатики» </strong> </center>\n",
        "\n",
        "  <hr>\n",
        "<center> Кафедра «Телевидения и звукового вещания им. С.И. Катаева (ТиЗВ)» </center>\n",
        "<br>\n",
        "<center> <font face=\"times new roman\" size=\"3\" color=\"black\"> Отчет по практической работе №12 </center>\n",
        "<center>по дисциплине </center>\n",
        "<center><b>«Введение в информационные технологии»</b></center>\n",
        "<center>на тему</center>\n",
        "<center><b>«Системы контроля версий»</b> </center>\n",
        "\n",
        "</font>\n",
        "\n",
        "  <br><br><br><br><br>\n",
        "  <p  align=\"right\"> <font face=\"times new roman\" size=\"3\" color=\"black\"> Выполнил: студент группы </p>\n",
        "  <p  align=\"right\"> <font face=\"times new roman\" size=\"3\" color=\"black\">       БИК2303 </p>\n",
        "  <p  align=\"right\"> <font face=\"times new roman\" size=\"3\" color=\"black\"> Нестеров Александр Романович</p>\n",
        "  <p  align=\"right\"> <font face=\"times new roman\" size=\"3\" color=\"black\"> Проверил:</p>\n",
        "  <p  align=\"right\"> <font face=\"times new roman\" size=\"3\" color=\"black\"> Ассистент кафедры ТиЗВ Кудряшов Всеволод Владимирович </p>\n",
        "  <br>\n",
        "  <br>\n",
        "\n",
        "  <p  align=\"center\"> <font face=\"times new roman\" size=\"2\" color=\"black\"> Москва, 2023 г. </p>\n",
        "\n",
        "  <hr>\n"
      ],
      "metadata": {
        "id": "IwEIwPV2SsXS"
      }
    },
    {
      "cell_type": "markdown",
      "source": [
        "\n",
        "\n",
        ">## Содержание\n",
        "\n"
      ],
      "metadata": {
        "id": "p6bNOFt5TAil"
      }
    },
    {
      "cell_type": "markdown",
      "source": [
        "<a href = '#Титульный_лист'>1. Титульный лист </a>\n",
        "<br>\n",
        "<a href = '#Постановка_задач'>2. Постановка задач </a>\n",
        "<br>\n",
        "<a href = '#Ход_работы'>3. Ход работы </a>\n",
        "<br>\n",
        "<a href = '#Результат_выполнения_работы'>4. Результат выполнения работы </a>\n",
        "\n"
      ],
      "metadata": {
        "id": "XPUrlygLVtti"
      }
    },
    {
      "cell_type": "markdown",
      "source": [
        "# Постановка задач\n",
        "<a name = 'Постановка_задач'>"
      ],
      "metadata": {
        "id": "MITJVH5EVzWR"
      }
    },
    {
      "cell_type": "markdown",
      "source": [
        "##Задания:\n",
        "\n",
        "1. Установить GIT.\n",
        "2. Создать локальный репозиторий.\n",
        "3. Создать файл отчета по выполнению практической работы и поместить его в репозиторий\n",
        "4. Зафиксировать в отчете все проделанные шаги и создать версию отчета в GIT.\n",
        "5. Создать ветку отчета в GIT, добавить описания шагов в отчет и создать версию отчета в новой ветке\n",
        "6. Слить последнее изменение отчета в основную ветку\n",
        "7. Зарегистрироваться на github, создать проект «homework IIT», залить содержимое из локального репозитория в проект на githab.\n",
        "8. Слить последнее изменение отчета в основную ветку\n",
        "9. Разместить на github ранее созданный статический сайт\n",
        "10. Завершить отчет, добавив описание всех пунктов\n",
        "\n",
        "\n"
      ],
      "metadata": {
        "id": "CTnf2ISwVz8D"
      }
    },
    {
      "cell_type": "markdown",
      "source": [
        "##Цель работы\n",
        "\n",
        "\n",
        "\n",
        "\n",
        "\n"
      ],
      "metadata": {
        "id": "u5nwXKygXD7T"
      }
    },
    {
      "cell_type": "markdown",
      "source": [
        "Репозиторий на github\n",
        "\n",
        "\n",
        "\n",
        "\n"
      ],
      "metadata": {
        "id": "gKcT-vw6XOHL"
      }
    },
    {
      "cell_type": "markdown",
      "source": [
        "##Задачи работы"
      ],
      "metadata": {
        "id": "f4UWL2QaZFxG"
      }
    },
    {
      "cell_type": "markdown",
      "source": [
        "1. Скачать GIT.\n",
        "2. Создать локальный репозиторий.\n",
        "3. Создать отчет по выполнению практической работы и поместить его в репозиторий\n",
        "4. Зафиксироват все проделанные шаги и создать версию отчета в GIT.\n",
        "5. Создать ветку отчета в GIT, добавить описания шагов в отчет и создать версию отчета в новой ветке\n",
        "6. Слить последнее изменение отчета в основную ветку\n",
        "7. Зарегистрироваться на githu, создать проект «homework IIT», залить содержимое из локального репозитория в проект на githab.\n",
        "8. Слить последнее изменение отчета в основную ветку\n",
        "9. Разместить на github ранее созданный статический сайт\n",
        "10. Завершить отчет, добавив описание всех пунктов\n"
      ],
      "metadata": {
        "id": "wI-kaClsZIVq"
      }
    },
    {
      "cell_type": "markdown",
      "source": [
        "## Расчет входных данных\n",
        "\n"
      ],
      "metadata": {
        "id": "tTSNUwqU_fx7"
      }
    },
    {
      "cell_type": "markdown",
      "source": [
        "В ходе работы были использованы следующие инструменты:\n",
        "1. Приложение GIT\n",
        "2. Github\n",
        "\n"
      ],
      "metadata": {
        "id": "eNFJb-xh_hrF"
      }
    },
    {
      "cell_type": "markdown",
      "source": [
        "# Ход работы\n",
        "<a name = 'Ход_работы'>"
      ],
      "metadata": {
        "id": "k0dsD196ABoL"
      }
    },
    {
      "cell_type": "markdown",
      "source": [
        "<p  align=\"justify\">  1. Для решения данной задачи был установлен GIT. (см Рис. 1) </p>\n",
        "\n",
        "![Установка Git Bash](https://cdn.discordapp.com/attachments/1040640165997191189/1174047167825059840/image.png?ex=65662ba1&is=6553b6a1&hm=d6ac9ba644db383b083426b51fa87d2aaf4777ec324178953710f59f7ed6b41a& \"Рисунок 1.\")\n",
        "\n",
        "\n"
      ],
      "metadata": {
        "id": "t78E8caoAGyj"
      }
    },
    {
      "cell_type": "markdown",
      "source": [
        "<p  align=\"justify\">  2. Для того, чтобы выполнить данную задачу был инициализирован новый Git репозиторий, в выбранной директории на компьютере, используя команду git init. (см. Рис 2)\n",
        " </p>\n",
        "\n",
        "![Инициализация Git репозитория](https://cdn.discordapp.com/attachments/1040640165997191189/1172954400453570630/image.png?ex=656231e9&is=654fbce9&hm=5bd29c11ff66c73240eb7cb492a792a93cfbe2d1643c1644ba27c34a0170a13f& \"Рисунок 2.\")\n",
        "\n",
        "\n"
      ],
      "metadata": {
        "id": "PP5V28MhAkHX"
      }
    },
    {
      "cell_type": "markdown",
      "source": [
        "<p  align=\"justify\">  3. Для того, чтобы выполнить данную задачу, был создан файл отчета по выполненной практической работе и помещен в репозиторий  (см. Рис 2)\n",
        " </p>\n",
        "\n",
        "![Инициализация Git репозитория]( \"Рисунок 2.\")\n",
        "\n",
        "\n"
      ],
      "metadata": {
        "id": "l1pAnM-cFHKS"
      }
    }
  ]
}